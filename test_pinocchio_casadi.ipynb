{
 "cells": [
  {
   "cell_type": "code",
   "execution_count": 11,
   "metadata": {},
   "outputs": [
    {
     "name": "stdout",
     "output_type": "stream",
     "text": [
      "You can open the visualizer by visiting the following URL:\n",
      "http://127.0.0.1:7004/static/\n"
     ]
    },
    {
     "data": {
      "application/vnd.jupyter.widget-view+json": {
       "model_id": "221347f33ed24678b99521f18b1b2668",
       "version_major": 2,
       "version_minor": 0
      },
      "text/plain": [
       "interactive(children=(FloatSlider(value=0.0, description='base_joint_angle', max=1.0, min=-1.0, step=0.01), Ou…"
      ]
     },
     "metadata": {},
     "output_type": "display_data"
    }
   ],
   "source": [
    "\"\"\"\n",
    "This is the \"hello world\" of using Pinocchio with CaSaDi.\n",
    "\n",
    "For now, this is based on https://github.com/nmansard/jnrh2023/blob/main/0_setup.ipynb\n",
    "\"\"\"\n",
    "\n",
    "import math\n",
    "import casadi\n",
    "from pinocchio import casadi as cpin\n",
    "from ipywidgets import interact\n",
    "from example_robot_data import load\n",
    "from pinocchio.visualize import MeshcatVisualizer\n",
    "\n",
    "robot = load(\"panda\")\n",
    "viz = MeshcatVisualizer(robot.model, robot.collision_model, robot.visual_model)\n",
    "viz.initViewer(loadModel=True)\n",
    "viz.viewer.jupyter_cell()\n",
    "\n",
    "q0 = robot.q0\n",
    "viz.display(q0)\n",
    "\n",
    "@interact(base_joint_angle=(-1.0, 1.0, 0.01))\n",
    "def move_base_joint(base_joint_angle=0):\n",
    "    q0[0] = math.pi - base_joint_angle\n",
    "    viz.display(q0)"
   ]
  },
  {
   "cell_type": "code",
   "execution_count": 12,
   "metadata": {},
   "outputs": [
    {
     "data": {
      "text/plain": [
       "SE3(SX(@1=1, @2=0, [[@1, @2, @2, @2],  [@2, @1, @2, @2],  [@2, @2, @1, @2],  [@2, @2, @2, @1]]))"
      ]
     },
     "execution_count": 12,
     "metadata": {},
     "output_type": "execute_result"
    }
   ],
   "source": [
    "differentiable_robot = cpin.Model(robot.model)\n",
    "differentiable_data = differentiable_robot.createData()\n",
    "cpin.forwardKinematics(differentiable_robot, differentiable_data, casadi.SX(q0))\n",
    "differentiable_data.oMf[5]"
   ]
  }
 ],
 "metadata": {
  "kernelspec": {
   "display_name": "optimal-control",
   "language": "python",
   "name": "python3"
  },
  "language_info": {
   "codemirror_mode": {
    "name": "ipython",
    "version": 3
   },
   "file_extension": ".py",
   "mimetype": "text/x-python",
   "name": "python",
   "nbconvert_exporter": "python",
   "pygments_lexer": "ipython3",
   "version": "3.13.0"
  }
 },
 "nbformat": 4,
 "nbformat_minor": 2
}
